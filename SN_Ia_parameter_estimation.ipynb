{
 "cells": [
  {
   "cell_type": "code",
   "execution_count": 1,
   "metadata": {
    "id": "YKhcIHZKjPkq"
   },
   "outputs": [],
   "source": [
    "import numpy as np\n",
    "import matplotlib.pyplot as plt\n",
    "import math as math\n",
    "%matplotlib inline"
   ]
  },
  {
   "cell_type": "markdown",
   "metadata": {
    "id": "STTKeuBAjpz3"
   },
   "source": [
    "**Setting up various arrays related to the problem**"
   ]
  },
  {
   "cell_type": "code",
   "execution_count": 2,
   "metadata": {
    "id": "klh6FiFsj8QE"
   },
   "outputs": [],
   "source": [
    "# Number of MCMC samples and number of parameters:\n",
    "nsamples = 10000\n",
    "npars    = 2\n",
    "\n",
    "# Define (gaussian) width of the proposal distribution, one for each parameter:\n",
    "Sigma = [0.01,0.01]\n",
    "\n",
    "# Number of supernova bins:\n",
    "nSN = 31\n",
    "\n",
    "# Declare an empty array of the parameter values of each point. \n",
    "# Parameter 0 = Omega_m\n",
    "# Parameter 1 = h\n",
    "# Parameter npars will be used to store the ln(likelihood)\n",
    "Theta = np.empty([nsamples,npars+1])\n",
    "\n",
    "# Utility vector to store mu(data)-mu(theory), temporarily:\n",
    "Dmu = np.empty(nSN)\n",
    "# Random starting point in parameter space; each parameter in range (0,1).\n",
    "# Set initial likelihood to low value so next point is accepted (could compute it instead):\n",
    "Theta[0,:] = [np.random.uniform(), np.random.uniform(), -1.e100]"
   ]
  },
  {
   "cell_type": "markdown",
   "metadata": {
    "id": "0i2ho7p1j1EH"
   },
   "source": [
    "**Reading in the data**"
   ]
  },
  {
   "cell_type": "code",
   "execution_count": 3,
   "metadata": {
    "colab": {
     "base_uri": "https://localhost:8080/",
     "height": 265
    },
    "id": "SgD3bMummMu9",
    "outputId": "18d5cfb3-8b44-4f56-e216-80d70624897c"
   },
   "outputs": [
    {
     "ename": "FileNotFoundError",
     "evalue": "[Errno 2] No such file or directory: 'jla_mub_0.txt'",
     "output_type": "error",
     "traceback": [
      "\u001b[0;31m---------------------------------------------------------------------------\u001b[0m",
      "\u001b[0;31mFileNotFoundError\u001b[0m                         Traceback (most recent call last)",
      "Cell \u001b[0;32mIn[3], line 2\u001b[0m\n\u001b[1;32m      1\u001b[0m \u001b[38;5;66;03m# Read in the Supernova data file:\u001b[39;00m\n\u001b[0;32m----> 2\u001b[0m f    \u001b[38;5;241m=\u001b[39m \u001b[38;5;28;43mopen\u001b[39;49m\u001b[43m(\u001b[49m\u001b[38;5;124;43m'\u001b[39;49m\u001b[38;5;124;43mjla_mub_0.txt\u001b[39;49m\u001b[38;5;124;43m'\u001b[39;49m\u001b[43m,\u001b[49m\u001b[43m \u001b[49m\u001b[38;5;124;43m'\u001b[39;49m\u001b[38;5;124;43mr\u001b[39;49m\u001b[38;5;124;43m'\u001b[39;49m\u001b[43m)\u001b[49m \u001b[38;5;66;03m# 'r' = read only\u001b[39;00m\n\u001b[1;32m      3\u001b[0m data \u001b[38;5;241m=\u001b[39m np\u001b[38;5;241m.\u001b[39mloadtxt(f)\n\u001b[1;32m      4\u001b[0m \u001b[38;5;66;03m#delete(data,0,0) # Erases the first row (i.e. the header)\u001b[39;00m\n",
      "File \u001b[0;32m~/Downloads/anaconda3/lib/python3.10/site-packages/IPython/core/interactiveshell.py:282\u001b[0m, in \u001b[0;36m_modified_open\u001b[0;34m(file, *args, **kwargs)\u001b[0m\n\u001b[1;32m    275\u001b[0m \u001b[38;5;28;01mif\u001b[39;00m file \u001b[38;5;129;01min\u001b[39;00m {\u001b[38;5;241m0\u001b[39m, \u001b[38;5;241m1\u001b[39m, \u001b[38;5;241m2\u001b[39m}:\n\u001b[1;32m    276\u001b[0m     \u001b[38;5;28;01mraise\u001b[39;00m \u001b[38;5;167;01mValueError\u001b[39;00m(\n\u001b[1;32m    277\u001b[0m         \u001b[38;5;124mf\u001b[39m\u001b[38;5;124m\"\u001b[39m\u001b[38;5;124mIPython won\u001b[39m\u001b[38;5;124m'\u001b[39m\u001b[38;5;124mt let you open fd=\u001b[39m\u001b[38;5;132;01m{\u001b[39;00mfile\u001b[38;5;132;01m}\u001b[39;00m\u001b[38;5;124m by default \u001b[39m\u001b[38;5;124m\"\u001b[39m\n\u001b[1;32m    278\u001b[0m         \u001b[38;5;124m\"\u001b[39m\u001b[38;5;124mas it is likely to crash IPython. If you know what you are doing, \u001b[39m\u001b[38;5;124m\"\u001b[39m\n\u001b[1;32m    279\u001b[0m         \u001b[38;5;124m\"\u001b[39m\u001b[38;5;124myou can use builtins\u001b[39m\u001b[38;5;124m'\u001b[39m\u001b[38;5;124m open.\u001b[39m\u001b[38;5;124m\"\u001b[39m\n\u001b[1;32m    280\u001b[0m     )\n\u001b[0;32m--> 282\u001b[0m \u001b[38;5;28;01mreturn\u001b[39;00m \u001b[43mio_open\u001b[49m\u001b[43m(\u001b[49m\u001b[43mfile\u001b[49m\u001b[43m,\u001b[49m\u001b[43m \u001b[49m\u001b[38;5;241;43m*\u001b[39;49m\u001b[43margs\u001b[49m\u001b[43m,\u001b[49m\u001b[43m \u001b[49m\u001b[38;5;241;43m*\u001b[39;49m\u001b[38;5;241;43m*\u001b[39;49m\u001b[43mkwargs\u001b[49m\u001b[43m)\u001b[49m\n",
      "\u001b[0;31mFileNotFoundError\u001b[0m: [Errno 2] No such file or directory: 'jla_mub_0.txt'"
     ]
    }
   ],
   "source": [
    "# Read in the Supernova data file:\n",
    "f    = open('jla_mub_0.txt', 'r') # 'r' = read only\n",
    "data = np.loadtxt(f)\n",
    "#delete(data,0,0) # Erases the first row (i.e. the header)\n",
    "f.close()\n",
    "\n",
    "# For convenience, define redshift bin (z) and ditance modulus (mu) arrays:\n",
    "z  = data[:,0]\n",
    "mu = data[:,1]\n",
    "\n",
    "# Plot the data:\n",
    "plt.plot(data[:,0],data[:,1],'o')\n",
    "npts    = 300\n",
    "z_plot  = np.linspace(0.01, 1.5, npts)\n",
    "mu_plot = np.empty(npts)\n",
    "         \n",
    "# Read in the covariance matrix (as a list), reshape it to 31 x 31, and then invert it:\n",
    "f   = open('jla_mub_covmatrix.txt', 'r') # 'r' = read only\n",
    "cov = np.loadtxt(f)\n",
    "cov = np.reshape(cov,(nSN,nSN))\n",
    "f.close()\n",
    "\n",
    "InvC = np.empty([nSN,nSN])\n",
    "InvC = np.linalg.inv(cov)"
   ]
  },
  {
   "cell_type": "markdown",
   "metadata": {
    "id": "-jVxBJZUj7cn"
   },
   "source": [
    "**Setting up the model for which we will be doing parameter estimation**"
   ]
  },
  {
   "cell_type": "code",
   "execution_count": null,
   "metadata": {
    "id": "itm6iOGKmZcX"
   },
   "outputs": [],
   "source": [
    "\n",
    "\n",
    "# Define three functions to approximate the luminosity distance and distance modulus:\n",
    "# From Pen (1999).\n",
    "def eta( a, Omegam ):\n",
    "    \"Utility function used in DL\"\n",
    "    s = math.pow(1.0/Omegam-1.0,1.0/3.0)\n",
    "    etaval = 2.0 * math.sqrt(math.pow(s,3)+1.0) * math.pow(math.pow(a,-4)-\n",
    "                                                        0.1540*s*math.pow(a,-3)+\n",
    "                                                        0.4304*math.pow(s,2)*math.pow(a,-2)+\n",
    "                                                        0.19097*math.pow(s,3)/a+\n",
    "                                                        0.066941*math.pow(s,4),-0.125)   \n",
    "    return etaval\n",
    "\n",
    "def DLstar(z,Omegam):\n",
    "    \"Luminosity Distance at redshift z, in Mpc/h, for flat Universe with parameters Omegam, h\"\n",
    "    DLval = 3000.0*(1.0+z)*(eta(1.0,Omegam)-eta(1.0/(1.0+z), Omegam))\n",
    "    return DLval\n",
    "\n",
    "def mu_model(z,Omegam,h):\n",
    "    \"Distance modulus at redshift z, for flat Universe with parameters Omegam, h\"\n",
    "    mu_model = 25.0 - 5.0*math.log10(h) + 5.0*math.log10(DLstar(z,Omegam))\n",
    "    return mu_model\n",
    "\n",
    "# Define the likelihood function:\n",
    "\n",
    "def lnL(Omegam, h):\n",
    "    \"Ln of likelihood for flat Universe and SN distance modulus data\"\n",
    "\n",
    "# Treat unphysical regions by setting likelihood to (almost) zero:    \n",
    "    if(Omegam<=0 or h<=0):\n",
    "        lnL = -1.e100\n",
    "    else:\n",
    "            \n",
    "# Compute difference with theory mu at redshifts of the SN, for trial Omegam, h:\n",
    "        for j in range (nSN):\n",
    "            Dmu[j] = mu[j]-mu_model(z[j],Omegam,h)\n",
    "\n",
    "# Compute ln(likelihood) assuming gaussian errors (double sum done using vector/matrix ops):\n",
    "        lnL = -0.5*np.dot(Dmu,np.dot(InvC,Dmu))\n",
    "        \n",
    "    return lnL"
   ]
  },
  {
   "cell_type": "markdown",
   "metadata": {
    "id": "fwqxfZu-kG_K"
   },
   "source": [
    "Texting the model for a few sets of the parameters"
   ]
  },
  {
   "cell_type": "code",
   "execution_count": null,
   "metadata": {
    "colab": {
     "base_uri": "https://localhost:8080/",
     "height": 279
    },
    "id": "bKjMx8GenBcU",
    "outputId": "8c77dd7c-e427-4f32-e7ab-b746c9ffcb5c"
   },
   "outputs": [],
   "source": [
    "# Plot a few theoretical curves on top of the data:\n",
    "for i in range (npts):\n",
    "    mu_plot[i] = mu_model(z_plot[i], 0.3, 0.7)\n",
    "plt.plot(z_plot,mu_plot)\n",
    "plt.xlabel('z')\n",
    "plt.ylabel(r'$\\mu$')\n",
    "\n",
    "for i in range (npts):\n",
    "    mu_plot[i] = mu_model(z_plot[i], 0.4, 0.5)\n",
    "plt.plot(z_plot,mu_plot)\n",
    "\n",
    "for i in range (npts):\n",
    "    mu_plot[i] = mu_model(z_plot[i], 0.6, 0.9)\n",
    "plt.plot(z_plot,mu_plot)\n",
    "\n",
    "# Plot the data:\n",
    "plt.plot(data[:,0],data[:,1],'o')\n",
    "\n",
    "plt.show()"
   ]
  },
  {
   "cell_type": "markdown",
   "metadata": {
    "id": "t7VebaULkQS9"
   },
   "source": [
    "**Main Metropolis-Hastings block**"
   ]
  },
  {
   "cell_type": "code",
   "execution_count": null,
   "metadata": {
    "id": "gin4LFKcnH-8"
   },
   "outputs": [],
   "source": [
    "# Draw new proposed samples from a proposal distribution, centred on old values Omegam[i-1], h[i-1]\n",
    "# Accept or reject, and colour points according to ln(likelihood):\n",
    "\n",
    "# Compute initial likelihood value:\n",
    "Theta[0,npars] = lnL(Theta[0,0], Theta[0,1])\n",
    "    \n",
    "for i in range(1,nsamples):    \n",
    "    lnLPrevious = Theta[i-1,npars]\n",
    "    OmegamProp = np.random.normal(Theta[i-1,0],Sigma[0])\n",
    "    hProp      = np.random.normal(Theta[i-1,1],Sigma[1])\n",
    "    \n",
    "    lnLProp    = lnL(OmegamProp,hProp)\n",
    "\n",
    "# Metroplis-Hastings algorithm:\n",
    "\n",
    "    if(lnLProp > lnLPrevious):\n",
    "# Accept point if likelihood has gone up:\n",
    "        Theta[i,0]     = OmegamProp\n",
    "        Theta[i,1]     = hProp\n",
    "        Theta[i,npars] = lnLProp\n",
    "    else:\n",
    "# Otherwise accept it with probability given by ratio of likelihoods:\n",
    "        alpha = np.random.uniform()\n",
    "    \n",
    "#        print(lnLProp,lnLPrevious,alpha)\n",
    "        if(lnLProp - lnLPrevious > np.log(alpha)):\n",
    "            Theta[i,0]     = OmegamProp\n",
    "            Theta[i,1]     = hProp\n",
    "            Theta[i,npars] = lnLProp\n",
    "#            print('Accepted')\n",
    "        else:\n",
    "# Repeat the previous point in the chain:\n",
    "            Theta[i,0]     = Theta[i-1,0]\n",
    "            Theta[i,1]     = Theta[i-1,1]\n",
    "            Theta[i,npars] = lnLPrevious\n",
    "#            print('Rejected')\n",
    "   \n",
    "# Remove a burn in period, arbitrarily chosen to be the first 10% of the chain:\n",
    "nburn = math.floor(nsamples/10)"
   ]
  },
  {
   "cell_type": "markdown",
   "metadata": {
    "id": "AYokkWZnkXpT"
   },
   "source": [
    "**Visualizing the sampling**\n",
    "\n",
    "**Scatter plots and summary statistics**"
   ]
  },
  {
   "cell_type": "code",
   "execution_count": null,
   "metadata": {
    "colab": {
     "base_uri": "https://localhost:8080/",
     "height": 880
    },
    "id": "3wtNKwznnTlE",
    "outputId": "fe62479d-ad8b-4752-dda1-a14d150381a4"
   },
   "outputs": [],
   "source": [
    "# Scatter plot of the samples:\n",
    "plt.scatter(Theta[nburn:,0], Theta[nburn:,1], c = -Theta[nburn:,npars])\n",
    "plt.xlim(0.15,0.45)\n",
    "plt.ylim(0.65,0.75)\n",
    "plt.xlabel(r'$\\Omega_m$')\n",
    "plt.ylabel('h')\n",
    "plt.show() \n",
    "\n",
    "# Histogram of Omegam:\n",
    "plt.hist(Theta[nburn:,0],bins=30)\n",
    "plt.xlabel(r'$\\Omega_m$')\n",
    "plt.show()\n",
    "\n",
    "# Histogram of h:\n",
    "plt.hist(Theta[nburn:,1],bins=30)\n",
    "plt.xlabel('h')\n",
    "plt.show()\n",
    "\n",
    "# Print mean of parameters, after removing a burn-in of 10% of samples:\n",
    "\n",
    "print ('Mean of Omegam = ',np.mean(Theta[nburn:nsamples,0]))\n",
    "print ('Mean of h      = ',np.mean(Theta[nburn:nsamples,1]))\n",
    "print ('Std of Omegam = ',np.std(Theta[nburn:nsamples,0]))\n",
    "print ('Std of h      = ',np.std(Theta[nburn:nsamples,1]))"
   ]
  },
  {
   "cell_type": "code",
   "execution_count": null,
   "metadata": {
    "id": "WrOnGVVpnaRg"
   },
   "outputs": [],
   "source": []
  }
 ],
 "metadata": {
  "colab": {
   "provenance": []
  },
  "kernelspec": {
   "display_name": "Python 3 (ipykernel)",
   "language": "python",
   "name": "python3"
  },
  "language_info": {
   "codemirror_mode": {
    "name": "ipython",
    "version": 3
   },
   "file_extension": ".py",
   "mimetype": "text/x-python",
   "name": "python",
   "nbconvert_exporter": "python",
   "pygments_lexer": "ipython3",
   "version": "3.10.9"
  }
 },
 "nbformat": 4,
 "nbformat_minor": 1
}

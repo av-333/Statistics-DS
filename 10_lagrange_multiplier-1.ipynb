{
 "cells": [
  {
   "cell_type": "code",
   "execution_count": 1,
   "id": "6b368aa1-c6b8-48ad-b4da-7ec747b389f8",
   "metadata": {
    "tags": []
   },
   "outputs": [],
   "source": [
    "import numpy as np\n",
    "import matplotlib.pyplot as plt\n",
    "import matplotlib.animation as animation\n",
    "%matplotlib tk"
   ]
  },
  {
   "cell_type": "code",
   "execution_count": 2,
   "id": "83abee18-5fd0-460f-9244-ce33a8135286",
   "metadata": {
    "tags": []
   },
   "outputs": [],
   "source": [
    "# Define the objective function to be minimized\n",
    "def objective(x):\n",
    "    return 5 * x[0] - 3 * x[1]"
   ]
  },
  {
   "cell_type": "code",
   "execution_count": 3,
   "id": "e34bb4c3-fc1d-4df9-8354-1f5976b1857e",
   "metadata": {
    "tags": []
   },
   "outputs": [],
   "source": [
    "# Define the constraint function\n",
    "def constraint(x):\n",
    "    return x[0] + x[1] - 5"
   ]
  },
  {
   "cell_type": "code",
   "execution_count": 4,
   "id": "6b41527a-3855-47b1-92d4-278169d36475",
   "metadata": {
    "tags": []
   },
   "outputs": [],
   "source": [
    "# Define the Lagrangian function\n",
    "def lagrangian(x, lmd):\n",
    "    return objective(x) + lmd * constraint(x)"
   ]
  },
  {
   "cell_type": "code",
   "execution_count": 5,
   "id": "f28309ff-1405-4f42-be33-12bec85d8f90",
   "metadata": {
    "tags": []
   },
   "outputs": [],
   "source": [
    "# Define the partial derivatives of the Lagrangian function\n",
    "def lagrangian_partial(x, lmd):\n",
    "    dL_dx0 = 5 + lmd\n",
    "    dL_dx1 = -3 + lmd\n",
    "    dL_dlmd = constraint(x)\n",
    "    return np.array([dL_dx0, dL_dx1, dL_dlmd])"
   ]
  },
  {
   "cell_type": "code",
   "execution_count": null,
   "id": "7b0e85eb-4142-4006-8a83-6d4b1b7a7ecd",
   "metadata": {
    "tags": []
   },
   "outputs": [],
   "source": [
    "# Define the initial guess for the variables and the Lagrange multiplier\n",
    "x0 = np.array([1, 1])\n",
    "lmd0 = 0"
   ]
  },
  {
   "cell_type": "code",
   "execution_count": 8,
   "id": "ac58ff67-07c8-4b9a-914b-c1f83aabef8d",
   "metadata": {
    "tags": []
   },
   "outputs": [],
   "source": [
    "# Define the maximum number of iterations and the tolerance for the optimization algorithm\n",
    "max_iter = 100\n",
    "tol = 1e-6"
   ]
  },
  {
   "cell_type": "code",
   "execution_count": 9,
   "id": "232d323c-bd12-418a-a10d-e86504620bfd",
   "metadata": {
    "tags": []
   },
   "outputs": [],
   "source": [
    "# Initialize the iteration counter and the difference between the previous and current Lagrange multiplier values\n",
    "iter_count = 0\n",
    "lmd_diff = 1"
   ]
  },
  {
   "cell_type": "code",
   "execution_count": 10,
   "id": "41bd9875-c3f7-4d47-a8b2-c2d4ad6a400c",
   "metadata": {
    "tags": []
   },
   "outputs": [
    {
     "name": "stdout",
     "output_type": "stream",
     "text": [
      "[ 5 -3 -3]\n",
      "[0.5 1.3]\n",
      "[ 4.7 -3.3 -3.2]\n",
      "[0.03 1.63]\n",
      "[ 4.38 -3.62 -3.34]\n",
      "[-0.408  1.992]\n",
      "[ 4.046 -3.954 -3.416]\n",
      "[-0.8126  2.3874]\n",
      "[ 3.7044 -4.2956 -3.4252]\n",
      "[-1.18304  2.81696]\n",
      "[ 3.36188 -4.63812 -3.36608]\n",
      "[-1.519228  3.280772]\n",
      "[ 3.025272 -4.974728 -3.238456]\n",
      "[-1.8217552  3.7782448]\n",
      "[ 2.7014264 -5.2985736 -3.0435104]\n",
      "[-2.09189784  4.30810216]\n",
      "[ 2.39707536 -5.60292464 -2.78379568]\n",
      "[-2.33160538  4.86839462]\n",
      "[ 2.11869579 -5.88130421 -2.46321075]\n",
      "[-2.54347496  5.45652504]\n",
      "[ 1.87237472 -6.12762528 -2.08694991]\n",
      "[-2.73071243  6.06928757]\n",
      "[ 1.66367973 -6.33632027 -1.66142485]\n",
      "[-2.8970804  6.7029196]\n",
      "[ 1.49753724 -6.50246276 -1.1941608 ]\n",
      "[-3.04683412  7.35316588]\n",
      "[ 1.37812116 -6.62187884 -0.69366825]\n",
      "[-3.18464624  8.01535376]\n",
      "[ 1.30875434 -6.69124566 -0.16929248]\n",
      "[-3.31552167  8.68447833]\n",
      "[ 1.29182509 -6.70817491  0.36895665]\n",
      "[-3.44470418  9.35529582]\n",
      "[ 1.32872075 -6.67127925  0.91059164]\n",
      "[-3.57757626 10.02242374]\n",
      "[ 1.41977992 -6.58022008  1.44484749]\n",
      "[-3.71955425 10.68044575]\n",
      "[ 1.56426467 -6.43573533  1.9608915 ]\n",
      "[-3.87598072 11.32401928]\n",
      "[ 1.76035382 -6.23964618  2.44803857]\n",
      "[-4.0520161 11.9479839]\n",
      "[ 2.00515767 -5.99484233  2.89596781]\n",
      "[-4.25253186 12.54746814]\n",
      "[ 2.29475445 -5.70524555  3.29493627]\n",
      "[-4.48200731 13.11799269]\n",
      "[ 2.62424808 -5.37575192  3.63598538]\n",
      "[-4.74443212 13.65556788]\n",
      "[ 2.98784662 -5.01215338  3.91113576]\n",
      "[-5.04321678 14.15678322]\n",
      "[ 3.37896019 -4.62103981  4.11356644]\n",
      "[-5.3811128 14.6188872]\n",
      "[ 3.79031684 -4.20968316  4.2377744 ]\n",
      "[-5.76014448 15.03985552]\n",
      "[ 4.21409428 -3.78590572  4.27971103]\n",
      "[-6.18155391 15.41844609]\n",
      "[ 4.64206538 -3.35793462  4.23689218]\n",
      "[-6.64576045 15.75423955]\n",
      "[ 5.0657546 -2.9342454  4.1084791]\n",
      "[-7.15233591 16.04766409]\n",
      "[ 5.47660251 -2.52339749  3.89532818]\n",
      "[-7.69999616 16.30000384]\n",
      "[ 5.86613533 -2.13386467  3.60000768]\n",
      "[-8.28660969 16.51339031]\n",
      "[ 6.2261361  -1.7738639   3.22678061]\n",
      "[-8.9092233 16.6907767]\n",
      "[ 6.54881416 -1.45118584  2.78155339]\n",
      "[-9.56410472 16.83589528]\n",
      "[ 6.8269695  -1.1730305   2.27179056]\n",
      "[-10.24680167  16.95319833]\n",
      "[ 7.05414855 -0.94585145  1.70639666]\n",
      "[-10.95221652  17.04778348]\n",
      "[ 7.22478822 -0.77521178  1.09556695]\n",
      "[-11.67469535  17.12530465]\n",
      "[ 7.33434492 -0.66565508  0.45060931]\n",
      "[-12.40812984  17.19187016]\n",
      "[ 7.37940585 -0.62059415 -0.21625967]\n",
      "[-13.14607042  17.25392958]\n",
      "[ 7.35777988 -0.64222012 -0.89214084]\n",
      "[-13.88184841  17.31815159]\n",
      "[ 7.26856579 -0.73143421 -1.56369682]\n",
      "[-14.60870499  17.39129501]\n",
      "[ 7.11219611 -0.88780389 -2.21740998]\n",
      "[-15.3199246  17.4800754]\n",
      "[ 6.89045511 -1.10954489 -2.8398492 ]\n",
      "[-16.00897011  17.59102989]\n",
      "[ 6.60647019 -1.39352981 -3.41794022]\n",
      "[-16.66961713  17.73038287]\n",
      "[ 6.26467617 -1.73532383 -3.93923426]\n",
      "[-17.29608475  17.90391525]\n",
      "[ 5.87075275 -2.12924725 -4.3921695 ]\n",
      "[-17.88316002  18.11683998]\n",
      "[ 5.4315358  -2.5684642  -4.76632005]\n",
      "[-18.4263136  18.3736864]\n",
      "[ 4.95490379 -3.04509621 -5.05262721]\n",
      "[-18.92180398  18.67819602]\n",
      "[ 4.44964107 -3.55035893 -5.24360796]\n",
      "[-19.36676809  19.03323191]\n",
      "[ 3.92528027 -4.07471973 -5.33353618]\n",
      "[-19.75929612  19.44070388]\n",
      "[ 3.39192666 -4.60807334 -5.31859223]\n",
      "[-20.09848878  19.90151122]\n",
      "[ 2.86006743 -5.13993257 -5.19697756]\n",
      "[-20.38449553  20.41550447]\n",
      "[ 2.34036968 -5.65963032 -4.96899105]\n",
      "[-20.61853249  20.98146751]\n",
      "[ 1.84347057 -6.15652943 -4.63706499]\n",
      "[-20.80287955  21.59712045]\n",
      "[ 1.37976407 -6.62023593 -4.2057591 ]\n",
      "[-20.94085596  22.25914404]\n",
      "[ 0.95918816 -7.04081184 -3.68171192]\n",
      "[-21.03677477  22.96322523]\n",
      "[ 0.59101697 -7.40898303 -3.07354955]\n",
      "[-21.09587647  23.70412353]\n",
      "[ 0.28366202 -7.71633798 -2.39175294]\n",
      "[-21.12424267  24.47575733]\n",
      "[ 0.04448672 -7.95551328 -1.64848535]\n",
      "[-21.12869135  25.27130865]\n",
      "[-0.12036181 -8.12036181 -0.85738269]\n",
      "[-21.11665516  26.08334484]\n",
      "[-0.20610008 -8.20610008 -0.03331033]\n",
      "[-21.09604516  26.90395484]\n",
      "[-0.20943111 -8.20943111  0.80790969]\n",
      "[-21.07510204  27.72489796]\n",
      "[-0.12864015 -8.12864015  1.64979591]\n",
      "[-21.06223803  28.53776197]\n",
      "[ 0.03633945 -7.96366055  2.47552394]\n",
      "[-21.06587197  29.33412803]\n",
      "[ 0.28389184 -7.71610816  3.26825605]\n",
      "[-21.09426116  30.10573884]\n",
      "[ 0.61071744 -7.38928256  4.01147768]\n",
      "[-21.1553329  30.8446671]\n",
      "[ 1.01186521 -6.98813479  4.68933419]\n",
      "[-21.25651942  31.54348058]\n",
      "[ 1.48079863 -6.51920137  5.28696115]\n",
      "[-21.40459929  32.19540071]\n",
      "[ 2.00949475 -5.99050525  5.79080142]\n",
      "[-21.60554876  32.79445124]\n",
      "[ 2.58857489 -5.41142511  6.18890248]\n",
      "[-21.86440625  33.33559375]\n",
      "[ 3.20746514 -4.79253486  6.4711875 ]\n",
      "[-22.18515277  33.81484723]\n",
      "[ 3.85458389 -4.14541611  6.62969447]\n",
      "[-22.57061115  34.22938885]\n",
      "[ 4.51755333 -3.48244667  6.65877769]\n",
      "[-23.02236649  34.57763351]\n",
      "[ 5.1834311  -2.8165689   6.55526703]\n",
      "[-23.5407096  34.8592904]\n",
      "[ 5.83895781 -2.16104219  6.3185808 ]\n",
      "[-24.12460538  35.07539462]\n",
      "[ 6.47081589 -1.52918411  5.95078924]\n",
      "[-24.77168697  35.22831303]\n",
      "[ 7.06589481 -0.93410519  5.45662607]\n",
      "[-25.47827645  35.32172355]\n",
      "[ 7.61155742 -0.38844258  4.8434471 ]\n",
      "[-26.23943219  35.36056781]\n",
      "[8.09590213 0.09590213 4.12113562]\n",
      "[-27.0490224  35.3509776]\n",
      "[8.50801569 0.50801569 3.30195519]\n",
      "[-27.89982397  35.30017603]\n",
      "[8.83821121 0.83821121 2.40035206]\n",
      "[-28.78364509  35.21635491]\n",
      "[9.07824642 1.07824642 1.43270981]\n",
      "[-29.69146973  35.10853027]\n",
      "[9.2215174  1.2215174  0.41706053]\n",
      "[-30.61362147  34.98637853]\n",
      "[ 9.26322345  1.26322345 -0.62724295]\n",
      "[-31.53994382  34.86005618]\n",
      "[ 9.20049915  1.20049915 -1.67988764]\n",
      "[-32.45999373  34.74000627]\n",
      "[ 9.03251039  1.03251039 -2.71998747]\n",
      "[-33.36324477  34.63675523]\n",
      "[ 8.76051164  0.76051164 -3.72648955]\n",
      "[-34.23929594  34.56070406]\n",
      "[ 8.38786269  0.38786269 -4.67859188]\n",
      "[-35.07808221  34.52191779]\n",
      "[ 7.9200035  -0.0799965  -5.55616441]\n",
      "[-35.87008256  34.52991744]\n",
      "[ 7.36438706 -0.63561294 -6.34016511]\n",
      "[-36.60652126  34.59347874]\n",
      "[ 6.73037055 -1.26962945 -7.01304253]\n",
      "[-37.27955832  34.72044168]\n",
      "[ 6.0290663  -1.9709337  -7.55911664]\n",
      "[-37.88246495  34.91753505]\n",
      "[ 5.27315463 -2.72684537 -7.9649299 ]\n",
      "[-38.40978041  35.19021959]\n",
      "[ 4.47666164 -3.52333836 -8.21956082]\n",
      "[-38.85744658  35.54255342]\n",
      "[ 3.65470556 -4.34529444 -8.31489315]\n",
      "[-39.22291713  35.97708287]\n",
      "[ 2.82321625 -5.17678375 -8.24583426]\n",
      "[-39.50523876  36.49476124]\n",
      "[ 1.99863282 -6.00136718 -8.01047751]\n",
      "[-39.70510204  37.09489796]\n",
      "[ 1.19758507 -6.80241493 -7.61020408]\n",
      "[-39.82486054  37.77513946]\n",
      "[ 0.43656466 -7.56343534 -7.04972109]\n",
      "[-39.86851701  38.53148299]\n",
      "[-0.26840745 -8.26840745 -6.33703402]\n",
      "[-39.84167627  39.35832373]\n",
      "[-0.90211085 -8.90211085 -5.48335253]\n",
      "[-39.75146518  40.24853482]\n"
     ]
    }
   ],
   "source": [
    "# Iterate until the Lagrange multiplier converges or the maximum number of iterations is reached\n",
    "while lmd_diff > tol and iter_count < max_iter:\n",
    "    # Calculate the partial derivatives of the Lagrangian function with respect to the variables and the Lagrange multiplier\n",
    "    partials = lagrangian_partial(x0, lmd0)\n",
    "    print(partials)\n",
    "    # Calculate the update to the variables and the Lagrange multiplier using the partial derivatives\n",
    "    x_update = x0 - 0.1 * partials[:-1]\n",
    "    lmd_update = lmd0 + 0.1 * partials[-1]\n",
    "    \n",
    "    # Calculate the difference between the previous and current Lagrange multiplier values\n",
    "    lmd_diff = abs(lmd_update - lmd0)\n",
    "    \n",
    "    # Update the variables and the Lagrange multiplier\n",
    "    x0 = x_update\n",
    "    lmd0 = lmd_update\n",
    "    print(x0)\n",
    "    # Increment the iteration counter\n",
    "    iter_count += 1"
   ]
  },
  {
   "cell_type": "code",
   "execution_count": 11,
   "id": "b1b9832c-b865-4eb6-8649-e5b2d0f80647",
   "metadata": {
    "tags": []
   },
   "outputs": [
    {
     "name": "stdout",
     "output_type": "stream",
     "text": [
      "Optimal values of the variables: [-39.75146518  40.24853482]\n",
      "Optimal value of the Lagrange multiplier: -6.450446103299718\n"
     ]
    }
   ],
   "source": [
    "# Print the optimal values of the variables and the Lagrange multiplier\n",
    "print(\"Optimal values of the variables:\", x0)\n",
    "print(\"Optimal value of the Lagrange multiplier:\", lmd0)"
   ]
  },
  {
   "cell_type": "code",
   "execution_count": 12,
   "id": "e1b44f26-fc31-4b9c-9771-030f881fbf35",
   "metadata": {
    "tags": []
   },
   "outputs": [],
   "source": [
    "cost_social = 2500\n",
    "cost_tv = 25000\n",
    "budget = 2500000"
   ]
  },
  {
   "cell_type": "code",
   "execution_count": 13,
   "id": "5c07d99b-722c-4cad-ac5e-01225b093299",
   "metadata": {
    "tags": []
   },
   "outputs": [],
   "source": [
    "social_min = 0\n",
    "social_max = budget / cost_social\n",
    "\n",
    "tv_min = 0\n",
    "tv_max = budget / cost_tv"
   ]
  },
  {
   "cell_type": "code",
   "execution_count": 14,
   "id": "0c13d20e-403b-4921-beeb-7ecb358aab93",
   "metadata": {
    "tags": []
   },
   "outputs": [],
   "source": [
    "def n_social(n_tv, budget):\n",
    "    return (budget - 25000 * n_tv) / 2500"
   ]
  },
  {
   "cell_type": "code",
   "execution_count": 15,
   "id": "a8d7d623-3c3d-4d3b-af02-da2f1a493ff1",
   "metadata": {
    "tags": []
   },
   "outputs": [],
   "source": [
    "def n_tv(n_social, budget):\n",
    "    return (budget - 2500 * n_social) / 25000"
   ]
  },
  {
   "cell_type": "code",
   "execution_count": 16,
   "id": "66c88110-518b-4094-8577-cdd527549b40",
   "metadata": {
    "tags": []
   },
   "outputs": [],
   "source": [
    "social_x = np.linspace(social_min, social_max, 100)\n",
    "tv_y = n_tv(social_x, budget)\n",
    "\n",
    "plt.figure(figsize=(10,5))\n",
    "plt.plot(social_x, tv_y)\n",
    "plt.xlabel('Number of social campaigns')\n",
    "plt.ylabel('Number of tv campaigns')\n",
    "plt.title('Possible ways of spending the budget')\n",
    "plt.show()"
   ]
  },
  {
   "cell_type": "code",
   "execution_count": 17,
   "id": "875271ec-bf71-4681-bd96-ffca6ce8bc86",
   "metadata": {
    "tags": []
   },
   "outputs": [],
   "source": [
    "def revenues(social, tv):\n",
    "    return social**(3/4) * tv**(1/4) * 7"
   ]
  },
  {
   "cell_type": "code",
   "execution_count": 20,
   "id": "d45ba052-a8d1-44b9-8a2f-b70c99fb208a",
   "metadata": {
    "tags": []
   },
   "outputs": [],
   "source": [
    "from mpl_toolkits.mplot3d import Axes3D\n",
    "social_axis = np.linspace(social_min, social_max, 100)\n",
    "tv_axis = np.linspace(tv_min, tv_max, 100)\n",
    "social_grid, tv_grid = np.meshgrid(social_axis, tv_axis)\n",
    "\n",
    "fig = plt.figure()\n",
    "ax = fig.add_subplot(projection='3d')\n",
    "\n",
    "ax.plot_surface(tv_grid, social_grid, revenues(social_grid, tv_grid))\n",
    "\n",
    "ax.plot(tv_y, social_x, linewidth = 5, color = 'r')\n",
    "\n",
    "ax.set_xlabel('Number of hours bought')\n",
    "ax.set_ylabel('Number of materials bought')\n",
    "ax.set_title('Possible ways of spending the budget')\n",
    "plt.show()"
   ]
  },
  {
   "cell_type": "code",
   "execution_count": 33,
   "id": "793be726-b281-441c-912d-d3a55557756a",
   "metadata": {
    "tags": []
   },
   "outputs": [],
   "source": [
    "fig, (ax_l, ax_r) = plt.subplots(1, 2, figsize = (15, 5))\n",
    "\n",
    "\n",
    "social_axis = np.linspace(social_min, social_max, 100)\n",
    "tv_axis = np.linspace(tv_max, tv_min, 100)\n",
    "social_grid, tv_grid = np.meshgrid(social_axis, tv_axis)\n",
    "    \n",
    "im = ax_l.imshow(revenues(social_grid, tv_grid), aspect = 'auto', extent=[social_min, social_max, tv_min, tv_max])\n",
    "ax_l.plot(social_axis, n_tv(social_axis, 2500000), 'r')\n",
    "ax_l.set_xlabel('Number of social campaigns bought')\n",
    "ax_l.set_ylabel('Number of tv campaigns bought')\n",
    "ax_l.set_title('Possible ways of spending the budget')\n",
    "\n",
    "\n",
    "# The contours are showing how the intersection looks like\n",
    "\n",
    "social_axis = np.linspace(social_min, social_max)\n",
    "tv_axis = np.linspace(tv_min, tv_max)\n",
    "social_grid, tv_grid = np.meshgrid(social_axis, tv_axis)\n",
    "\n",
    "im2 = ax_r.contour(revenues(social_grid,tv_grid), extent=[social_min, social_max, tv_min, tv_max])\n",
    "ax_r.plot(social_axis, n_tv(social_axis, 2500000), 'r')\n",
    "ax_r.set_xlabel('Number of social campaings bought')\n",
    "ax_r.set_ylabel('Number of tv campaigns bought')\n",
    "ax_r.set_title('Possible ways of spending the budget')\n",
    "\n",
    "plt.colorbar(im,ax=ax_l)\n",
    "plt.colorbar(im2,ax=ax_r)\n",
    "\n",
    "plt.show()"
   ]
  },
  {
   "cell_type": "code",
   "execution_count": 29,
   "id": "10510828-b849-4080-99b8-10d6251bd45b",
   "metadata": {
    "tags": []
   },
   "outputs": [
    {
     "data": {
      "text/plain": [
       "[(750.000000000000, 25.0000000000000, 0.000897302713432092)]"
      ]
     },
     "execution_count": 29,
     "metadata": {},
     "output_type": "execute_result"
    }
   ],
   "source": [
    "from sympy import *\n",
    "\n",
    "s, t, l = symbols('s t l')\n",
    "\n",
    "solve([Eq((21/4)*((t**(1/4))/s**(1/4)) - 2500*l, 0),\n",
    "   Eq((7/4)*(s**(3/4)/t**(3/4)) - 25000*l, 0),\n",
    "   Eq(2500*s+25000*t - 2500000, 0)], [s,t,l], simplify=False)"
   ]
  },
  {
   "cell_type": "code",
   "execution_count": 32,
   "id": "7b6eee51-9938-410c-9948-763778a574b8",
   "metadata": {
    "tags": []
   },
   "outputs": [
    {
     "data": {
      "text/plain": [
       "2243.256783580229"
      ]
     },
     "execution_count": 32,
     "metadata": {},
     "output_type": "execute_result"
    }
   ],
   "source": [
    "revenues(750, 25)"
   ]
  },
  {
   "cell_type": "code",
   "execution_count": null,
   "id": "cf5e6bdc-ba6e-48f6-a7e6-2a2a100e3fca",
   "metadata": {},
   "outputs": [],
   "source": []
  },
  {
   "cell_type": "code",
   "execution_count": 34,
   "id": "701b6d9c-b207-4ad9-a5f7-aca034bf156d",
   "metadata": {
    "tags": []
   },
   "outputs": [],
   "source": [
    "# Define the objective function to be minimized\n",
    "def objective(x):\n",
    "    return x[0]**2 + x[1]**2"
   ]
  },
  {
   "cell_type": "code",
   "execution_count": 35,
   "id": "c3d3416a-b9cf-4926-9231-1f2dc2497428",
   "metadata": {
    "tags": []
   },
   "outputs": [],
   "source": [
    "# Define the constraint function\n",
    "def constraint(x):\n",
    "    return x[0] + x[1] - 5"
   ]
  },
  {
   "cell_type": "code",
   "execution_count": 37,
   "id": "911eef60-2599-499f-ad27-62f992fa16f2",
   "metadata": {
    "tags": []
   },
   "outputs": [],
   "source": [
    "# Define the Lagrangian function\n",
    "def lagrangian(x, lmd):\n",
    "    return objective(x) + lmd * constraint(x)"
   ]
  },
  {
   "cell_type": "code",
   "execution_count": 38,
   "id": "f10018f3-02a4-4d0d-8fa8-7862f2b75ca2",
   "metadata": {
    "tags": []
   },
   "outputs": [],
   "source": [
    "# Define the partial derivatives of the Lagrangian function\n",
    "def lagrangian_partial(x, lmd):\n",
    "    dL_dx0 = 2 * x[0] + lmd\n",
    "    dL_dx1 = 2 * x[1] + lmd\n",
    "    dL_dlmd = constraint(x)\n",
    "    return np.array([dL_dx0, dL_dx1, dL_dlmd])"
   ]
  },
  {
   "cell_type": "code",
   "execution_count": 39,
   "id": "e850c500-a51a-41dd-80e5-27a609d6f2d4",
   "metadata": {
    "tags": []
   },
   "outputs": [],
   "source": [
    "# Define the initial guess for the variables and the Lagrange multiplier\n",
    "x0 = np.array([1, 1])\n",
    "lmd0 = 0"
   ]
  },
  {
   "cell_type": "code",
   "execution_count": 40,
   "id": "8b2f435b-b56f-4b66-81c0-3c6887100026",
   "metadata": {
    "tags": []
   },
   "outputs": [],
   "source": [
    "# Define the maximum number of iterations and the tolerance for the optimization algorithm\n",
    "max_iter = 100\n",
    "tol = 1e-6"
   ]
  },
  {
   "cell_type": "code",
   "execution_count": 41,
   "id": "14468b8e-bd13-4f00-b9c7-922845146d53",
   "metadata": {
    "tags": []
   },
   "outputs": [],
   "source": [
    "# Create a figure and axis for the animation\n",
    "fig, ax = plt.subplots(figsize=(8, 6))\n",
    "\n",
    "# Define the x and y limits for the plot\n",
    "ax.set_xlim(-1, 6)\n",
    "ax.set_ylim(-1, 6)\n",
    "# Define the x and y values for the constraint line\n",
    "x_constraint = np.linspace(0, 5, 100)\n",
    "y_constraint = 5 - x_constraint\n",
    "# Plot the constraint line\n",
    "ax.plot(x_constraint, y_constraint, 'k--')\n",
    "# Define a scatter plot for the iterations of the optimization algorithm\n",
    "scatter = ax.scatter([], [])\n",
    "# Initialize the iteration counter and the difference between the previous and current Lagrange multiplier values\n",
    "iter_count = 0\n",
    "lmd_diff = 1\n",
    "# Define a function to update the scatter plot for each iteration of the optimization algorithm\n",
    "def update_plot(i):\n",
    "    global x0, lmd0, iter_count, lmd_diff\n",
    "\n",
    "    # Calculate the partial derivatives of the Lagrangian function with respect to the variables and the Lagrange multiplier\n",
    "    partials = lagrangian_partial(x0, lmd0)\n",
    "\n",
    "    # Calculate the update to the variables and the Lagrange multiplier using the partial derivatives\n",
    "    x_update = x0 - 0.1 * partials[:-1]\n",
    "    lmd_update = lmd0 + 0.1 * partials[-1]\n",
    "\n",
    "    # Calculate the difference between the previous and current Lagrange multiplier values\n",
    "    lmd_diff = abs(lmd_update - lmd0)\n",
    "\n",
    "    # Update the variables and the Lagrange multiplier\n",
    "    x0 = x_update\n",
    "    lmd0 = lmd_update\n",
    "\n",
    "    # Increment the iteration counter\n",
    "    iter_count += 1\n",
    "\n",
    "    # Update the scatter plot with the current values of the variables\n",
    "    scatter.set_offsets(x0)\n",
    "\n",
    "    # Return the scatter plot for the current iteration\n",
    "    return scatter,\n",
    "# Create an animation of the optimization algorithm\n",
    "animation = animation.FuncAnimation(fig, update_plot, frames=max_iter, blit=True)\n",
    "\n",
    "# Show the animation\n",
    "plt.show()"
   ]
  },
  {
   "cell_type": "code",
   "execution_count": null,
   "id": "5d2e9194-8cb4-4025-97af-abf0c96bca46",
   "metadata": {
    "tags": []
   },
   "outputs": [],
   "source": []
  },
  {
   "cell_type": "code",
   "execution_count": null,
   "id": "cfcda12c-bbfe-4903-b84f-8ae84f172c76",
   "metadata": {},
   "outputs": [],
   "source": []
  },
  {
   "cell_type": "code",
   "execution_count": null,
   "id": "1f4d3404-dc4e-4236-b59c-9d6acdf19337",
   "metadata": {
    "tags": []
   },
   "outputs": [],
   "source": [
    "\n",
    "\n",
    "\n",
    "\n",
    "\n",
    "\n",
    "\n",
    "\n",
    "\n",
    "\n",
    "\n",
    "\n",
    "\n",
    "\n",
    "\n",
    "\n",
    "\n",
    "\n",
    "\n",
    "\n",
    "\n",
    "\n",
    "\n",
    "\n",
    "\n",
    "\n"
   ]
  },
  {
   "cell_type": "code",
   "execution_count": null,
   "id": "fbf24034-acd1-48d7-b575-1100772d374c",
   "metadata": {
    "tags": []
   },
   "outputs": [],
   "source": []
  },
  {
   "cell_type": "code",
   "execution_count": null,
   "id": "b4c0b4e7-5878-4283-a36a-7643deae0d52",
   "metadata": {
    "tags": []
   },
   "outputs": [],
   "source": []
  },
  {
   "cell_type": "code",
   "execution_count": null,
   "id": "044d8259-52ef-4b73-8884-f8e5497c18a4",
   "metadata": {},
   "outputs": [],
   "source": []
  },
  {
   "cell_type": "code",
   "execution_count": null,
   "id": "1d3e759c-491e-48a6-aa47-1999d54c2a74",
   "metadata": {},
   "outputs": [],
   "source": []
  }
 ],
 "metadata": {
  "kernelspec": {
   "display_name": "Python 3 (ipykernel)",
   "language": "python",
   "name": "python3"
  },
  "language_info": {
   "codemirror_mode": {
    "name": "ipython",
    "version": 3
   },
   "file_extension": ".py",
   "mimetype": "text/x-python",
   "name": "python",
   "nbconvert_exporter": "python",
   "pygments_lexer": "ipython3",
   "version": "3.10.6"
  }
 },
 "nbformat": 4,
 "nbformat_minor": 5
}
